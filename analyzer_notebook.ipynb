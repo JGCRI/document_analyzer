{
 "cells": [
  {
   "cell_type": "code",
   "execution_count": 15,
   "id": "eb17a8d9-1c37-4063-b93b-f57aac8f1696",
   "metadata": {},
   "outputs": [
    {
     "data": {
      "text/plain": [
       "['/home/Malaysia 1/KL Policies and Plans/DBKLCMP/DBKL Carbon Management Plan.pdf',\n",
       " '/home/Malaysia 1/KL Policies and Plans/DBKLCMP/DBKL Carbon Management Plan.xlsx',\n",
       " '/home/Malaysia 1/KL Policies and Plans/KLCAP2050/C40_KLCAP2050_Release 2021.pdf',\n",
       " '/home/Malaysia 1/KL Policies and Plans/KLCAP2050/C40_KLCAP2050_viewing-only-MR-single.pdf',\n",
       " '/home/Malaysia 1/KL Policies and Plans/KLCAP2050/KL2050 plans.docx',\n",
       " '/home/Malaysia 1/KL Policies and Plans/KLCAP2050/KL2050 quantitative.docx',\n",
       " '/home/Malaysia 1/KL Policies and Plans/KLCAP2050/KL2050 spreadsheet info.docx',\n",
       " '/home/Malaysia 1/KL Policies and Plans/KLCAP2050/KLCAP2050 - doc to pull from.docx',\n",
       " '/home/Malaysia 1/KL Policies and Plans/KLCAP2050/Kuala Lumpur Climate Action Plan 2050 notes.docx',\n",
       " '/home/Malaysia 1/KL Policies and Plans/KLLCSBP2030/KL LCS BP 2030 - doc to pull from.docx',\n",
       " '/home/Malaysia 1/KL Policies and Plans/KLLCSBP2030/KL LCS BP 2030 - full.docx',\n",
       " '/home/Malaysia 1/KL Policies and Plans/KLLCSBP2030/KL LCS BP 2030.docx',\n",
       " '/home/Malaysia 1/KL Policies and Plans/KLLCSBP2030/KL LCSBP 2030 SPM.pdf',\n",
       " '/home/Malaysia 1/KL Policies and Plans/KLLCSBP2030/KL LCSBP 2030.pdf',\n",
       " '/home/Malaysia 1/KL Policies and Plans/KLLCSBP2030/KL Low Carbon Society Blueprint notes.docx',\n",
       " '/home/Malaysia 1/KL Policies and Plans/KLLCSBP2030/kl-lcsbp2030-summary-policymakers-min (2).pdf',\n",
       " '/home/Malaysia 1/KL Policies and Plans/KLSP2040/2 KLSP2040 FULL (ENG)v2 (1).pdf',\n",
       " '/home/Malaysia 1/KL Policies and Plans/KLSP2040/KLSP2040 - doc to pull from.docx',\n",
       " '/home/Malaysia 1/KL Policies and Plans/KLSP2040/KLSP2040.docx',\n",
       " '/home/Malaysia 1/KL Policies and Plans/Sectors/2030_emissions_table.pdf',\n",
       " '/home/Malaysia 1/KL Policies and Plans/Sectors/Buildings_MW.docx',\n",
       " '/home/Malaysia 1/KL Policies and Plans/Sectors/Emissions_MW.docx',\n",
       " '/home/Malaysia 1/KL Policies and Plans/Sectors/Energy supply_MW.docx',\n",
       " '/home/Malaysia 1/KL Policies and Plans/Sectors/KL implementables.docx',\n",
       " '/home/Malaysia 1/KL Policies and Plans/Sectors/Transportation_MW.docx',\n",
       " '/home/Malaysia 1/KL Policies and Plans/Sectors/Buildings/Buildings.docx',\n",
       " '/home/Malaysia 1/KL Policies and Plans/Sectors/Buildings/Buildings_MW.docx',\n",
       " '/home/Malaysia 1/KL Policies and Plans/Sectors/Emissions/Emissions - Copy.docx',\n",
       " '/home/Malaysia 1/KL Policies and Plans/Sectors/Emissions/Emissions.docx',\n",
       " '/home/Malaysia 1/KL Policies and Plans/Sectors/Emissions/emissions.xlsx',\n",
       " '/home/Malaysia 1/KL Policies and Plans/Sectors/Emissions/Emissions_original.docx',\n",
       " '/home/Malaysia 1/KL Policies and Plans/Sectors/Energy supply/Energy supply.docx',\n",
       " '/home/Malaysia 1/KL Policies and Plans/Sectors/Energy supply/Energy supply_MW.docx',\n",
       " '/home/Malaysia 1/KL Policies and Plans/Sectors/Industry/Industry.docx',\n",
       " '/home/Malaysia 1/KL Policies and Plans/Sectors/Industry/Industry_MW.docx',\n",
       " '/home/Malaysia 1/KL Policies and Plans/Sectors/Transportation/Transportation.docx',\n",
       " '/home/Malaysia 1/KL Policies and Plans/Sectors/Transportation/Transportation_MW.docx',\n",
       " '/home/Malaysia 1/National Policies/Green-Technology-Master-Plan-Malaysia-2017-2030.pdf',\n",
       " '/home/Malaysia 1/National Policies/Malaysia NDC Updated Submission to UNFCCC July 2021 final.pdf',\n",
       " '/home/Malaysia 1/National Policies/MALAYSIA_BUR4-UNFCCC_Submission_2022.pdf',\n",
       " '/home/Malaysia 1/National Policies/MS 1525-2019-Energy Efficiency and use of Renewable Energy for Non residential Buildings.pdf',\n",
       " '/home/Malaysia 1/National Policies/MS1525-2007_scan.pdf',\n",
       " '/home/Malaysia 1/National Policies/MyRER.docx',\n",
       " '/home/Malaysia 1/National Policies/MyRER.pdf',\n",
       " '/home/Malaysia 1/National Policies/MY_KL_policies.xlsx',\n",
       " '/home/Malaysia 1/National Policies/National Energy Policy_2022_2040.pdf',\n",
       " '/home/Malaysia 1/National Policies/NEEAP.docx',\n",
       " '/home/Malaysia 1/National Policies/NEEAP.pdf',\n",
       " '/home/Malaysia 1/National Policies/NREPAP.docx',\n",
       " '/home/Malaysia 1/National Policies/NREPAP.pdf',\n",
       " '/home/Malaysia 1/National Policies/NTP.docx',\n",
       " '/home/Malaysia 1/National Policies/NTP.pdf']"
      ]
     },
     "execution_count": 15,
     "metadata": {},
     "output_type": "execute_result"
    }
   ],
   "source": [
    "import glob\n",
    "import os\n",
    "\n",
    "def get_file_paths(directory):\n",
    "    search_pattern = os.path.join(directory, '**', '*')\n",
    "    file_paths = glob.glob(search_pattern, recursive=True)\n",
    "    file_paths = [path for path in file_paths if os.path.isfile(path)]\n",
    "    return file_paths\n",
    "\n",
    "allfiles = get_file_paths('/home/Malaysia 1/KL Policies and Plans')\n",
    "allfiles.extend(get_file_paths(\"/home/Malaysia 1/National Policies\"))\n",
    "allfiles"
   ]
  },
  {
   "cell_type": "code",
   "execution_count": 4,
   "id": "70f70933-3cf5-4ccb-a1ef-e7d7630326d3",
   "metadata": {},
   "outputs": [
    {
     "name": "stdout",
     "output_type": "stream",
     "text": [
      "Loaded 2195 chunks of Documents from 52 files.\n"
     ]
    }
   ],
   "source": [
    "from langchain.document_loaders import PyPDFLoader, CSVLoader, UnstructuredWordDocumentLoader\n",
    "from langchain.schema import Document\n",
    "import pandas as pd\n",
    "\n",
    "\n",
    "# parse .xlxs files \n",
    "def load_excel_as_documents(file_path: str):\n",
    "    dfs = pd.read_excel(file_path, sheet_name=None) # dict: {sheet_name: DataFrame}\n",
    "    docs = []\n",
    "    for sheet_name, df in dfs.items():\n",
    "        text = df.to_csv(index=False)\n",
    "        metadata = {\"source\": file_path, \"sheet_name\": sheet_name}\n",
    "        docs.append(Document(page_content=text, metadata=metadata))\n",
    "    return docs\n",
    "\n",
    "\n",
    "# parse all the files and store the `Document` objects returned in a list\n",
    "all_documents = []\n",
    "for file_path in allfiles:\n",
    "    ext = os.path.splitext(file_path)[1].lower()\n",
    "    docs = []\n",
    "    if ext == \".pdf\":\n",
    "        loader = PyPDFLoader(file_path)\n",
    "        docs = loader.load()\n",
    "    elif ext == \".docx\":\n",
    "        loader = UnstructuredWordDocumentLoader(file_path)\n",
    "        docs = loader.load()\n",
    "    elif ext == \".csv\":\n",
    "        csv_loader = CSVLoader(file_path=file_path)\n",
    "        docs = csv_loader.load()\n",
    "    elif ext == \".xlsx\":\n",
    "        docs = load_excel_as_documents(file_path)\n",
    "    else:\n",
    "        print(\"missed\")\n",
    "    all_documents.extend(docs)\n",
    "print(f\"Loaded {len(all_documents)} chunks of Documents from {len(allfiles)} files.\")"
   ]
  },
  {
   "cell_type": "code",
   "execution_count": 5,
   "id": "1d95fcf4-99fc-4b1e-8b3d-cfbe6c064b3d",
   "metadata": {},
   "outputs": [
    {
     "name": "stderr",
     "output_type": "stream",
     "text": [
      "Created a chunk of size 2512, which is longer than the specified 2000\n",
      "Created a chunk of size 2512, which is longer than the specified 2000\n",
      "Created a chunk of size 2512, which is longer than the specified 2000\n"
     ]
    },
    {
     "name": "stdout",
     "output_type": "stream",
     "text": [
      "Total chunks after splitting: 3478\n"
     ]
    }
   ],
   "source": [
    "from langchain.text_splitter import CharacterTextSplitter\n",
    "\n",
    "# separate a given text into 2000 sized chunks where each chunkoverlaps by 100\n",
    "text_splitter = CharacterTextSplitter(\n",
    "    separator=\"\\n\",\n",
    "    chunk_size=2000,\n",
    "    chunk_overlap=100\n",
    ")\n",
    "\n",
    "# split the files into chunks and store all the chunks as `Document` objects \n",
    "split_docs = []\n",
    "for doc in all_documents:\n",
    "    chunks = text_splitter.split_text(doc.page_content)\n",
    "    for chunk in chunks:\n",
    "        split_docs.append(\n",
    "            Document(page_content=chunk, metadata=doc.metadata)\n",
    "        )\n",
    "\n",
    "print(f\"Total chunks after splitting: {len(split_docs)}\")"
   ]
  },
  {
   "cell_type": "code",
   "execution_count": 7,
   "id": "ef452549-8e07-4342-9426-b5ee8f831123",
   "metadata": {},
   "outputs": [],
   "source": [
    "from langchain_openai import OpenAIEmbeddings\n",
    "from langchain_chroma import Chroma\n",
    "from time import sleep\n",
    "\n",
    "\n",
    "# make the embedding function with the embedding model\n",
    "embedding_function = OpenAIEmbeddings(model=\"text-embedding-3-small-birthright\", openai_api_key=\"sk-KbR-Csnj0L7vUssXqZJQew\", \n",
    "                                      openai_api_base=\"https://ai-incubator-api.pnnl.gov\")\n",
    "# make a vector database to store all the embeddings \n",
    "vectorstore = Chroma(\n",
    "    collection_name=\"my_collection\",\n",
    "    embedding_function=embedding_function,\n",
    "    persist_directory=\"./chroma_db\"\n",
    ")\n",
    "\n",
    "# add 20 documents at a time to the database, each document will first be converted into embeddings \n",
    "# by the embedding model and then added to the database. \n",
    "batch_size = 20\n",
    "for i in range(0, len(split_docs), batch_size):\n",
    "    batch = split_docs[i : i + batch_size]\n",
    "    vectorstore.add_documents(batch)\n",
    "    # sleep to prevent too many requests error from the embedding model server \n",
    "    sleep(3)"
   ]
  },
  {
   "cell_type": "code",
   "execution_count": 8,
   "id": "abe6f2be-bccb-4cc4-baa2-1c7ae91d9cac",
   "metadata": {},
   "outputs": [],
   "source": [
    "# save the database"
   ]
  },
  {
   "cell_type": "code",
   "execution_count": 9,
   "id": "f0f54593-db9f-47c5-bb00-791f723be91d",
   "metadata": {},
   "outputs": [
    {
     "name": "stdout",
     "output_type": "stream",
     "text": [
      "Answer:\n",
      " The policies and targets related to conventional coal phase-out in electricity generation in Malaysia are primarily outlined in the New Capacity Target scenario. This scenario advocates for no new coal plants post-2025 and aims to accelerate Malaysia's energy transition by replacing some retiring coal plants with renewable energy (RE) and gas-fired capacities. By 2035, coal's contribution to the capacity mix is expected to sharply decline from 37% in 2020 to 18%.\n",
      "\n",
      "Extrapolating these targets to 2050 with reasonable assumptions would likely involve further reductions in coal usage, potentially phasing it out entirely, as Malaysia continues to increase its reliance on renewable energy sources and natural gas. The focus would be on achieving a higher share of RE in the capacity mix, further reducing dependency on coal, and aligning with global decarbonization goals. However, specific targets for 2050 are not detailed in the provided context, so these assumptions are based on the trajectory set by the current policies and targets up to 2035.\n",
      "\n",
      "Sources used:\n",
      "{'creationdate': '2022-01-05T15:59:27+08:00', 'creator': 'Adobe InDesign 15.0 (Macintosh)', 'moddate': '2022-03-23T10:41:03+08:00', 'page': 23, 'page_label': '2', 'producer': 'Adobe PDF Library 15.0', 'source': '/home/Malaysia 1/National Policies/MyRER.pdf', 'total_pages': 148, 'trapped': '/False'}\n",
      "{'creationdate': '2022-01-05T15:59:27+08:00', 'creator': 'Adobe InDesign 15.0 (Macintosh)', 'moddate': '2022-03-23T10:41:03+08:00', 'page': 23, 'page_label': '2', 'producer': 'Adobe PDF Library 15.0', 'source': '/home/Malaysia 1/National Policies/MyRER.pdf', 'total_pages': 148, 'trapped': '/False'}\n",
      "{'source': '/home/Malaysia 1/KL Policies and Plans/Sectors/Emissions/Emissions.docx'}\n",
      "{'source': '/home/Malaysia 1/KL Policies and Plans/Sectors/Emissions/Emissions.docx'}\n",
      "{'creationdate': '2022-01-05T15:59:27+08:00', 'creator': 'Adobe InDesign 15.0 (Macintosh)', 'moddate': '2022-03-23T10:41:03+08:00', 'page': 135, 'page_label': '114', 'producer': 'Adobe PDF Library 15.0', 'source': '/home/Malaysia 1/National Policies/MyRER.pdf', 'total_pages': 148, 'trapped': '/False'}\n",
      "{'creationdate': '2022-01-05T15:59:27+08:00', 'creator': 'Adobe InDesign 15.0 (Macintosh)', 'moddate': '2022-03-23T10:41:03+08:00', 'page': 135, 'page_label': '114', 'producer': 'Adobe PDF Library 15.0', 'source': '/home/Malaysia 1/National Policies/MyRER.pdf', 'total_pages': 148, 'trapped': '/False'}\n",
      "{'creationdate': '2022-01-05T15:59:27+08:00', 'creator': 'Adobe InDesign 15.0 (Macintosh)', 'moddate': '2022-03-23T10:41:03+08:00', 'page': 130, 'page_label': '109', 'producer': 'Adobe PDF Library 15.0', 'source': '/home/Malaysia 1/National Policies/MyRER.pdf', 'total_pages': 148, 'trapped': '/False'}\n",
      "{'creationdate': '2022-01-05T15:59:27+08:00', 'creator': 'Adobe InDesign 15.0 (Macintosh)', 'moddate': '2022-03-23T10:41:03+08:00', 'page': 130, 'page_label': '109', 'producer': 'Adobe PDF Library 15.0', 'source': '/home/Malaysia 1/National Policies/MyRER.pdf', 'total_pages': 148, 'trapped': '/False'}\n",
      "{'creationdate': '2022-01-05T15:59:27+08:00', 'creator': 'Adobe InDesign 15.0 (Macintosh)', 'moddate': '2022-03-23T10:41:03+08:00', 'page': 140, 'page_label': '119', 'producer': 'Adobe PDF Library 15.0', 'source': '/home/Malaysia 1/National Policies/MyRER.pdf', 'total_pages': 148, 'trapped': '/False'}\n",
      "{'creationdate': '2022-01-05T15:59:27+08:00', 'creator': 'Adobe InDesign 15.0 (Macintosh)', 'moddate': '2022-03-23T10:41:03+08:00', 'page': 140, 'page_label': '119', 'producer': 'Adobe PDF Library 15.0', 'source': '/home/Malaysia 1/National Policies/MyRER.pdf', 'total_pages': 148, 'trapped': '/False'}\n"
     ]
    }
   ],
   "source": [
    "from langchain_openai import ChatOpenAI\n",
    "from langchain.chains import RetrievalQA\n",
    "\n",
    "# make retriever object which would pick \"k\" (in this case 10) chunks for each query to the llm model\n",
    "retriever = vectorstore.as_retriever(search_kwargs={\"k\": 10})\n",
    "# make the question-answer chain object\n",
    "qa_chain = RetrievalQA.from_chain_type(\n",
    "    llm=ChatOpenAI(model_name=\"gpt-4o-birthright\", temperature=0, openai_api_key=\"sk-KbR-Csnj0L7vUssXqZJQew\", \n",
    "                                      openai_api_base=\"https://ai-incubator-api.pnnl.gov\"),\n",
    "    chain_type=\"stuff\",\n",
    "    retriever=retriever,\n",
    "    return_source_documents=True\n",
    ")\n",
    "\n",
    "question = \"What are the policies and targets related to conventional coal phase-out in electricity generation in Malaysia? What, specifically, will they be if extrapolated to 2050 with reasonable assumptions?\"\n",
    "result = qa_chain.invoke(question)\n",
    "\n",
    "print(\"Answer:\\n\", result[\"result\"])\n",
    "print(\"\\nSources used:\")\n",
    "for doc in result[\"source_documents\"]:\n",
    "    print(doc.metadata)"
   ]
  },
  {
   "cell_type": "code",
   "execution_count": 10,
   "id": "48f0cf64-672a-4a1c-9221-91282e79aba8",
   "metadata": {},
   "outputs": [
    {
     "name": "stdout",
     "output_type": "stream",
     "text": [
      "Answer:\n",
      " I don't know.\n"
     ]
    }
   ],
   "source": [
    "question = \"Can I still get specific estimates? Just have general assumptions.\"\n",
    "result = qa_chain.invoke(question)\n",
    "\n",
    "print(\"Answer:\\n\", result[\"result\"])"
   ]
  },
  {
   "cell_type": "code",
   "execution_count": null,
   "id": "84154463-35dc-4564-ac13-142122249b18",
   "metadata": {},
   "outputs": [],
   "source": [
    "# document\n",
    "# converting ai output to gcam input\n",
    "# malaysia data\n",
    "# test a parameter\n",
    "# check which could work and not working\n",
    "# ability to extrapolate\n",
    "# document everything\n",
    "\n",
    "# track issues and hours and priorities\n",
    "\n",
    "# maridee: if she extrapolated\n",
    "# iea data"
   ]
  },
  {
   "cell_type": "code",
   "execution_count": null,
   "id": "a51087df-1f9e-4326-9893-1233eadc63a5",
   "metadata": {},
   "outputs": [],
   "source": []
  }
 ],
 "metadata": {
  "kernelspec": {
   "display_name": "Python 3 (ipykernel)",
   "language": "python",
   "name": "python3"
  },
  "language_info": {
   "codemirror_mode": {
    "name": "ipython",
    "version": 3
   },
   "file_extension": ".py",
   "mimetype": "text/x-python",
   "name": "python",
   "nbconvert_exporter": "python",
   "pygments_lexer": "ipython3",
   "version": "3.11.6"
  }
 },
 "nbformat": 4,
 "nbformat_minor": 5
}
